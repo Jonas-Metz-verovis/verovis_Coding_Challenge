{
 "metadata": {
  "language_info": {
   "codemirror_mode": {
    "name": "ipython",
    "version": 3
   },
   "file_extension": ".py",
   "mimetype": "text/x-python",
   "name": "python",
   "nbconvert_exporter": "python",
   "pygments_lexer": "ipython3",
   "version": "3.7.5-final"
  },
  "orig_nbformat": 2,
  "kernelspec": {
   "name": "python3",
   "display_name": "Python 3.7.5 64-bit"
  }
 },
 "nbformat": 4,
 "nbformat_minor": 2,
 "cells": [
  {
   "source": [
    "[![Open In Colab](https://colab.research.google.com/assets/colab-badge.svg)](http://colab.research.google.com/github/Jonas-Metz-verovis/verovis_Coding_Challenge/blob/main/01_Data_Loading.ipynb)"
   ],
   "cell_type": "markdown",
   "metadata": {}
  },
  {
   "source": [
    "# Introduction\n",
    "\n",
    "In this Challenge you will learn how to load Data from CSV-Files and perform basic Operations on the loaded DataFrame.\n",
    "\n",
    "The Documentation of the relevant Functionalities/Packages can be found here:\n",
    "\n",
    "1.  [Import Packages](https://docs.python.org/3.7/reference/import.html)\n",
    "1.  [Console Input/Output](https://docs.python.org/3.7/tutorial/inputoutput.html)\n",
    "1.  [Read CSV-Files with Pandas](https://pandas.pydata.org/pandas-docs/stable/reference/api/pandas.read_csv.html)\n",
    "1.  [Pandas DataFrame API](https://pandas.pydata.org/pandas-docs/stable/reference/api/pandas.DataFrame.html)\n",
    "1.  [Pandas Row/Column/Cell Selection](https://pandas.pydata.org/pandas-docs/stable/user_guide/indexing.html)\n",
    "1.  [Pandas DataFrame Combination](https://pandas.pydata.org/pandas-docs/stable/user_guide/merging.html)\n",
    "1.  [Basic Directory/File Operations](https://docs.python.org/3.7/library/os.html)"
   ],
   "cell_type": "markdown",
   "metadata": {}
  },
  {
   "source": [
    "# Imports\n",
    "\n",
    "### Task: Import all necessary Python Packages."
   ],
   "cell_type": "markdown",
   "metadata": {}
  },
  {
   "cell_type": "code",
   "execution_count": null,
   "metadata": {},
   "outputs": [],
   "source": []
  },
  {
   "source": [
    "# Data Loading\n",
    "\n",
    "### Task: Load the Data from these CSV-Files into separate DataFrames and visualize their Content (Top/Bottom-5-Rows and Summary Statistics).\n",
    "\n",
    "1.  Titanic Train Data: https://raw.githubusercontent.com/Jonas-Metz-verovis/verovis_Coding_Challenge/main/Data/Titanic_Train.csv\n",
    "1.  Titanic Test Data: https://raw.githubusercontent.com/Jonas-Metz-verovis/verovis_Coding_Challenge/main/Data/Titanic_Test.csv\n",
    "1.  Titanic Test Target: https://raw.githubusercontent.com/Jonas-Metz-verovis/verovis_Coding_Challenge/main/Data/Titanic_Test_Target.csv"
   ],
   "cell_type": "markdown",
   "metadata": {}
  },
  {
   "cell_type": "code",
   "execution_count": null,
   "metadata": {},
   "outputs": [],
   "source": []
  },
  {
   "source": [
    "# Data Combination\n",
    "\n",
    "### Task: Add an Train/Test Identifier Column to the DataFrames and combine them into one DataFrame which contains all Columns/Rows."
   ],
   "cell_type": "markdown",
   "metadata": {}
  },
  {
   "cell_type": "code",
   "execution_count": null,
   "metadata": {},
   "outputs": [],
   "source": []
  },
  {
   "source": [
    "# Data Saving\n",
    "\n",
    "### Task: Save the combined DataFrame to a CSV-File."
   ],
   "cell_type": "markdown",
   "metadata": {}
  },
  {
   "cell_type": "code",
   "execution_count": null,
   "metadata": {},
   "outputs": [],
   "source": []
  },
  {
   "source": [
    "# Basic DataFrame Operations\n",
    "\n",
    "### Task: Print a List of the combined DataFrame's Columns."
   ],
   "cell_type": "markdown",
   "metadata": {}
  },
  {
   "cell_type": "code",
   "execution_count": null,
   "metadata": {},
   "outputs": [],
   "source": []
  },
  {
   "source": [
    "### Task: Print the Value of the Cell in Row 1305 / Column 4"
   ],
   "cell_type": "markdown",
   "metadata": {}
  },
  {
   "cell_type": "code",
   "execution_count": null,
   "metadata": {},
   "outputs": [],
   "source": []
  },
  {
   "source": [
    "### Task: Print the Age of the Passenger \"Karlsson, Mr. Nils August\""
   ],
   "cell_type": "markdown",
   "metadata": {}
  },
  {
   "cell_type": "code",
   "execution_count": null,
   "metadata": {},
   "outputs": [],
   "source": []
  }
 ]
}