{
 "metadata": {
  "language_info": {
   "codemirror_mode": {
    "name": "ipython",
    "version": 3
   },
   "file_extension": ".py",
   "mimetype": "text/x-python",
   "name": "python",
   "nbconvert_exporter": "python",
   "pygments_lexer": "ipython3",
   "version": "3.7.5-final"
  },
  "orig_nbformat": 2,
  "kernelspec": {
   "name": "python37564bitc1cf0fb4225141b8a2e95a3c67142d35",
   "display_name": "Python 3.7.5 64-bit"
  }
 },
 "nbformat": 4,
 "nbformat_minor": 2,
 "cells": [
  {
   "source": [
    "[![Open In Colab](https://colab.research.google.com/assets/colab-badge.svg)](http://colab.research.google.com/github/Jonas-Metz-verovis/verovis_Coding_Challenge/blob/main/01_Data_Loading.ipynb)"
   ],
   "cell_type": "markdown",
   "metadata": {}
  },
  {
   "source": [
    "# Introduction\n",
    "\n",
    "In this Challenge you will learn how to load Data from CSV-Files and perform basic Operations on the loaded DataFrame.\n",
    "\n",
    "The Documentation of the necessary Functionalities/Packages can be found here:\n",
    "\n",
    "1.  [Import Packages](https://docs.python.org/3.7/reference/import.html)\n",
    "1.  [Console Input/Output](https://docs.python.org/3.7/tutorial/inputoutput.html)\n",
    "1.  [Read CSV-Files with Pandas](https://pandas.pydata.org/pandas-docs/stable/reference/api/pandas.read_csv.html)\n",
    "1.  [Pandas DataFrame API](https://pandas.pydata.org/pandas-docs/stable/reference/api/pandas.DataFrame.html)\n",
    "1.  [Pandas Row/Column/Cell Selection](https://pandas.pydata.org/pandas-docs/stable/user_guide/indexing.html)\n",
    "1.  [Pandas DataFrame Combination](https://pandas.pydata.org/pandas-docs/stable/user_guide/merging.html)\n"
   ],
   "cell_type": "markdown",
   "metadata": {}
  },
  {
   "source": [
    "# Imports\n",
    "\n",
    "Task: Import all necessary Python Packages."
   ],
   "cell_type": "markdown",
   "metadata": {}
  },
  {
   "cell_type": "code",
   "execution_count": null,
   "metadata": {},
   "outputs": [],
   "source": [
    "import pandas as pd"
   ]
  },
  {
   "source": [
    "# Data Loading\n",
    "\n",
    "Task: Load the "
   ],
   "cell_type": "markdown",
   "metadata": {}
  },
  {
   "cell_type": "code",
   "execution_count": null,
   "metadata": {},
   "outputs": [],
   "source": [
    "df_raw_train = pd.read_csv (\"https://raw.githubusercontent.com/Jonas-Metz-verovis/verovis_Coding_Challenge/main/Data/Titanic_Train.csv\")\n",
    "print (df_raw_train.head ())"
   ]
  },
  {
   "cell_type": "code",
   "execution_count": null,
   "metadata": {},
   "outputs": [],
   "source": [
    "df_raw_test = pd.read_csv (\"https://raw.githubusercontent.com/Jonas-Metz-verovis/verovis_Coding_Challenge/main/Data/Titanic_Test.csv\")\n",
    "print (df_raw_test.head ())"
   ]
  },
  {
   "cell_type": "code",
   "execution_count": null,
   "metadata": {},
   "outputs": [],
   "source": [
    "df_raw_target = pd.read_csv (\"https://raw.githubusercontent.com/Jonas-Metz-verovis/verovis_Coding_Challenge/main/Data/Titanic_Target.csv\")\n",
    "print (df_raw_target.head ())"
   ]
  }
 ]
}